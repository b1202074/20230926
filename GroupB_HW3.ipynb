{
  "nbformat": 4,
  "nbformat_minor": 0,
  "metadata": {
    "colab": {
      "provenance": []
    },
    "kernelspec": {
      "name": "python3",
      "display_name": "Python 3"
    },
    "language_info": {
      "name": "python"
    }
  },
  "cells": [
    {
      "cell_type": "code",
      "execution_count": null,
      "metadata": {
        "colab": {
          "base_uri": "https://localhost:8080/"
        },
        "id": "vKZVwCKWm1c8",
        "outputId": "015c459f-ab69-4b22-ac24-d3e2d47737b1"
      },
      "outputs": [
        {
          "output_type": "stream",
          "name": "stdout",
          "text": [
            "I'm a student\n"
          ]
        }
      ],
      "source": [
        "'print(\"I'm a student\")"
      ]
    },
    {
      "cell_type": "code",
      "source": [
        "a=int(input(\"輸入x1：\"))\n",
        "b=int(input(\"輸入y1：\"))\n",
        "c=int(input(\"輸入x2：\"))\n",
        "d=int(input(\"輸入y2：\"))\n",
        "print(\"AB的距離是\",(((a-c)**2+(b-d)**2))**0.5)"
      ],
      "metadata": {
        "colab": {
          "base_uri": "https://localhost:8080/"
        },
        "id": "D0Urie01nFZ5",
        "outputId": "b477aaad-9e88-48bc-e371-aa1f9f13db81"
      },
      "execution_count": null,
      "outputs": [
        {
          "output_type": "stream",
          "name": "stdout",
          "text": [
            "輸入x1：3\n",
            "輸入y1：4\n",
            "輸入x2：6\n",
            "輸入y2：8\n",
            "AB的距離是 5.0\n"
          ]
        }
      ]
    },
    {
      "cell_type": "code",
      "source": [
        "a=float(input(\"請輸入身高（公尺）:\"))\n",
        "b=float(input(\"請輸入體重（公斤）:\"))\n",
        "b/=a\n",
        "b/=a\n",
        "print(\"b=\",b)\n",
        "print(b>18.5)"
      ],
      "metadata": {
        "colab": {
          "base_uri": "https://localhost:8080/"
        },
        "id": "bABtIv3LfcE-",
        "outputId": "4c042940-4e18-457d-bd49-44ef5b1bb414"
      },
      "execution_count": 9,
      "outputs": [
        {
          "output_type": "stream",
          "name": "stdout",
          "text": [
            "請輸入身高（公尺）:1.5\n",
            "請輸入體重（公斤）:45\n",
            "b= 20.0\n",
            "True\n"
          ]
        }
      ]
    }
  ]
}